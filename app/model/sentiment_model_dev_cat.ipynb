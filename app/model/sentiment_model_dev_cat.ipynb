{
 "cells": [
  {
   "cell_type": "code",
   "execution_count": 1,
   "metadata": {},
   "outputs": [],
   "source": [
    "import pandas as pd\n",
    "import catboost\n",
    "from catboost import CatBoostClassifier"
   ]
  },
  {
   "cell_type": "code",
   "execution_count": 2,
   "metadata": {},
   "outputs": [],
   "source": [
    "df = pd.read_excel('./data/Task-2/train.xlsx')\n",
    "\n",
    "X= df[['text']]\n",
    "y = df.label"
   ]
  },
  {
   "cell_type": "code",
   "execution_count": 3,
   "metadata": {},
   "outputs": [
    {
     "data": {
      "text/html": [
       "<div>\n",
       "<style scoped>\n",
       "    .dataframe tbody tr th:only-of-type {\n",
       "        vertical-align: middle;\n",
       "    }\n",
       "\n",
       "    .dataframe tbody tr th {\n",
       "        vertical-align: top;\n",
       "    }\n",
       "\n",
       "    .dataframe thead th {\n",
       "        text-align: right;\n",
       "    }\n",
       "</style>\n",
       "<table border=\"1\" class=\"dataframe\">\n",
       "  <thead>\n",
       "    <tr style=\"text-align: right;\">\n",
       "      <th></th>\n",
       "      <th>text</th>\n",
       "    </tr>\n",
       "  </thead>\n",
       "  <tbody>\n",
       "    <tr>\n",
       "      <th>0</th>\n",
       "      <td>Fiskars has a strong portfolio of internationa...</td>\n",
       "    </tr>\n",
       "    <tr>\n",
       "      <th>1</th>\n",
       "      <td>METALS-Zinc surges 12 pct after Glencore cuts ...</td>\n",
       "    </tr>\n",
       "    <tr>\n",
       "      <th>2</th>\n",
       "      <td>According to Scanfil , demand for telecommunic...</td>\n",
       "    </tr>\n",
       "    <tr>\n",
       "      <th>3</th>\n",
       "      <td>dbs launches new banking api developer platfor...</td>\n",
       "    </tr>\n",
       "    <tr>\n",
       "      <th>4</th>\n",
       "      <td>Theodosopoulos said Tellabs could be of value ...</td>\n",
       "    </tr>\n",
       "    <tr>\n",
       "      <th>...</th>\n",
       "      <td>...</td>\n",
       "    </tr>\n",
       "    <tr>\n",
       "      <th>4333</th>\n",
       "      <td>Airvana 's UMTS Home Base Station femto cell u...</td>\n",
       "    </tr>\n",
       "    <tr>\n",
       "      <th>4334</th>\n",
       "      <td>malton 1q net profit jumps four times on gain ...</td>\n",
       "    </tr>\n",
       "    <tr>\n",
       "      <th>4335</th>\n",
       "      <td>According to CEO Kai Telanne , the company 's ...</td>\n",
       "    </tr>\n",
       "    <tr>\n",
       "      <th>4336</th>\n",
       "      <td>In addition , Cramo and Peab have signed exclu...</td>\n",
       "    </tr>\n",
       "    <tr>\n",
       "      <th>4337</th>\n",
       "      <td>`` NTC has a geographical presence that comple...</td>\n",
       "    </tr>\n",
       "  </tbody>\n",
       "</table>\n",
       "<p>4338 rows × 1 columns</p>\n",
       "</div>"
      ],
      "text/plain": [
       "                                                   text\n",
       "0     Fiskars has a strong portfolio of internationa...\n",
       "1     METALS-Zinc surges 12 pct after Glencore cuts ...\n",
       "2     According to Scanfil , demand for telecommunic...\n",
       "3     dbs launches new banking api developer platfor...\n",
       "4     Theodosopoulos said Tellabs could be of value ...\n",
       "...                                                 ...\n",
       "4333  Airvana 's UMTS Home Base Station femto cell u...\n",
       "4334  malton 1q net profit jumps four times on gain ...\n",
       "4335  According to CEO Kai Telanne , the company 's ...\n",
       "4336  In addition , Cramo and Peab have signed exclu...\n",
       "4337  `` NTC has a geographical presence that comple...\n",
       "\n",
       "[4338 rows x 1 columns]"
      ]
     },
     "execution_count": 3,
     "metadata": {},
     "output_type": "execute_result"
    }
   ],
   "source": [
    "X"
   ]
  },
  {
   "cell_type": "code",
   "execution_count": 4,
   "metadata": {},
   "outputs": [],
   "source": [
    "def fit_model(train_pool, test_pool, **kwargs):\n",
    "    model = CatBoostClassifier(\n",
    "        task_type='CPU',\n",
    "        iterations=5000,\n",
    "        eval_metric='Accuracy',\n",
    "        od_type='Iter',\n",
    "        od_wait=500,\n",
    "        **kwargs\n",
    "    )\n",
    "    return model.fit(\n",
    "            train_pool,\n",
    "            eval_set=test_pool,\n",
    "            verbose=100,\n",
    "            plot=True,\n",
    "            use_best_model=True)"
   ]
  },
  {
   "cell_type": "code",
   "execution_count": 5,
   "metadata": {},
   "outputs": [
    {
     "name": "stdout",
     "output_type": "stream",
     "text": [
      "Fold 1\n"
     ]
    },
    {
     "data": {
      "application/vnd.jupyter.widget-view+json": {
       "model_id": "f2d85910eaba4d8ea339e9812cbd83fc",
       "version_major": 2,
       "version_minor": 0
      },
      "text/plain": [
       "MetricVisualizer(layout=Layout(align_self='stretch', height='500px'))"
      ]
     },
     "metadata": {},
     "output_type": "display_data"
    },
    {
     "name": "stdout",
     "output_type": "stream",
     "text": [
      "Learning rate set to 0.021395\n",
      "0:\tlearn: 0.6691643\ttest: 0.6624424\tbest: 0.6624424 (0)\ttotal: 79.5ms\tremaining: 6m 37s\n",
      "100:\tlearn: 0.7164265\ttest: 0.7039171\tbest: 0.7039171 (100)\ttotal: 2.38s\tremaining: 1m 55s\n",
      "200:\tlearn: 0.7371758\ttest: 0.7200461\tbest: 0.7211982 (151)\ttotal: 4.61s\tremaining: 1m 50s\n",
      "300:\tlearn: 0.7648415\ttest: 0.7338710\tbest: 0.7350230 (295)\ttotal: 6.85s\tremaining: 1m 46s\n",
      "400:\tlearn: 0.7870317\ttest: 0.7592166\tbest: 0.7592166 (400)\ttotal: 9.09s\tremaining: 1m 44s\n",
      "500:\tlearn: 0.8123919\ttest: 0.7695853\tbest: 0.7695853 (499)\ttotal: 11.3s\tremaining: 1m 41s\n",
      "600:\tlearn: 0.8302594\ttest: 0.7811060\tbest: 0.7811060 (586)\ttotal: 13.6s\tremaining: 1m 39s\n",
      "700:\tlearn: 0.8435159\ttest: 0.7822581\tbest: 0.7880184 (670)\ttotal: 15.8s\tremaining: 1m 36s\n",
      "800:\tlearn: 0.8541787\ttest: 0.7880184\tbest: 0.7880184 (670)\ttotal: 17.9s\tremaining: 1m 34s\n",
      "900:\tlearn: 0.8665706\ttest: 0.7960829\tbest: 0.7972350 (873)\ttotal: 20.2s\tremaining: 1m 31s\n",
      "1000:\tlearn: 0.8769452\ttest: 0.7983871\tbest: 0.7983871 (907)\ttotal: 22.4s\tremaining: 1m 29s\n",
      "1100:\tlearn: 0.8835735\ttest: 0.7926267\tbest: 0.8006912 (1029)\ttotal: 24.6s\tremaining: 1m 27s\n",
      "1200:\tlearn: 0.8919308\ttest: 0.8018433\tbest: 0.8018433 (1199)\ttotal: 26.9s\tremaining: 1m 25s\n",
      "1300:\tlearn: 0.8965418\ttest: 0.8052995\tbest: 0.8052995 (1272)\ttotal: 29.1s\tremaining: 1m 22s\n",
      "1400:\tlearn: 0.9020173\ttest: 0.8064516\tbest: 0.8064516 (1357)\ttotal: 31.3s\tremaining: 1m 20s\n",
      "1500:\tlearn: 0.9072046\ttest: 0.8029954\tbest: 0.8064516 (1357)\ttotal: 33.6s\tremaining: 1m 18s\n",
      "1600:\tlearn: 0.9109510\ttest: 0.8018433\tbest: 0.8064516 (1357)\ttotal: 35.8s\tremaining: 1m 16s\n",
      "1700:\tlearn: 0.9155620\ttest: 0.8018433\tbest: 0.8064516 (1357)\ttotal: 38.1s\tremaining: 1m 13s\n",
      "1800:\tlearn: 0.9213256\ttest: 0.7983871\tbest: 0.8064516 (1357)\ttotal: 40.3s\tremaining: 1m 11s\n",
      "Stopped by overfitting detector  (500 iterations wait)\n",
      "\n",
      "bestTest = 0.8064516129\n",
      "bestIteration = 1357\n",
      "\n",
      "Shrink model to first 1358 iterations.\n",
      "Fold 2\n"
     ]
    },
    {
     "data": {
      "application/vnd.jupyter.widget-view+json": {
       "model_id": "1f8534570b2d400da03b182c3fca9a03",
       "version_major": 2,
       "version_minor": 0
      },
      "text/plain": [
       "MetricVisualizer(layout=Layout(align_self='stretch', height='500px'))"
      ]
     },
     "metadata": {},
     "output_type": "display_data"
    },
    {
     "name": "stdout",
     "output_type": "stream",
     "text": [
      "Learning rate set to 0.021395\n",
      "0:\tlearn: 0.6553314\ttest: 0.6382488\tbest: 0.6382488 (0)\ttotal: 29.9ms\tremaining: 2m 29s\n",
      "100:\tlearn: 0.7126801\ttest: 0.6947005\tbest: 0.6981567 (95)\ttotal: 2.25s\tremaining: 1m 49s\n",
      "200:\tlearn: 0.7469741\ttest: 0.7223502\tbest: 0.7235023 (186)\ttotal: 4.43s\tremaining: 1m 45s\n",
      "300:\tlearn: 0.7671470\ttest: 0.7315668\tbest: 0.7327189 (236)\ttotal: 6.66s\tremaining: 1m 43s\n",
      "400:\tlearn: 0.7881844\ttest: 0.7373272\tbest: 0.7396313 (389)\ttotal: 8.79s\tremaining: 1m 40s\n",
      "500:\tlearn: 0.8095101\ttest: 0.7488479\tbest: 0.7488479 (465)\ttotal: 11s\tremaining: 1m 38s\n",
      "600:\tlearn: 0.8279539\ttest: 0.7615207\tbest: 0.7615207 (595)\ttotal: 13.2s\tremaining: 1m 36s\n",
      "700:\tlearn: 0.8391931\ttest: 0.7695853\tbest: 0.7707373 (688)\ttotal: 15.4s\tremaining: 1m 34s\n",
      "800:\tlearn: 0.8527378\ttest: 0.7730415\tbest: 0.7741935 (774)\ttotal: 17.6s\tremaining: 1m 32s\n",
      "900:\tlearn: 0.8631124\ttest: 0.7764977\tbest: 0.7776498 (880)\ttotal: 19.8s\tremaining: 1m 30s\n",
      "1000:\tlearn: 0.8731988\ttest: 0.7764977\tbest: 0.7776498 (880)\ttotal: 22s\tremaining: 1m 27s\n",
      "1100:\tlearn: 0.8829971\ttest: 0.7845622\tbest: 0.7857143 (1044)\ttotal: 24.2s\tremaining: 1m 25s\n",
      "1200:\tlearn: 0.8913545\ttest: 0.7891705\tbest: 0.7903226 (1167)\ttotal: 26.4s\tremaining: 1m 23s\n",
      "1300:\tlearn: 0.8976945\ttest: 0.7926267\tbest: 0.7926267 (1234)\ttotal: 28.6s\tremaining: 1m 21s\n",
      "1400:\tlearn: 0.9028818\ttest: 0.7903226\tbest: 0.7926267 (1234)\ttotal: 30.9s\tremaining: 1m 19s\n",
      "1500:\tlearn: 0.9074928\ttest: 0.7949309\tbest: 0.7949309 (1460)\ttotal: 33.3s\tremaining: 1m 17s\n",
      "1600:\tlearn: 0.9118156\ttest: 0.7972350\tbest: 0.7972350 (1566)\ttotal: 35.7s\tremaining: 1m 15s\n",
      "1700:\tlearn: 0.9152738\ttest: 0.7983871\tbest: 0.7983871 (1635)\ttotal: 37.8s\tremaining: 1m 13s\n",
      "1800:\tlearn: 0.9198847\ttest: 0.8029954\tbest: 0.8029954 (1770)\ttotal: 40.1s\tremaining: 1m 11s\n",
      "1900:\tlearn: 0.9265130\ttest: 0.8052995\tbest: 0.8052995 (1873)\ttotal: 42.3s\tremaining: 1m 8s\n",
      "2000:\tlearn: 0.9319885\ttest: 0.8029954\tbest: 0.8052995 (1873)\ttotal: 44.5s\tremaining: 1m 6s\n",
      "2100:\tlearn: 0.9345821\ttest: 0.8041475\tbest: 0.8052995 (1873)\ttotal: 46.7s\tremaining: 1m 4s\n",
      "2200:\tlearn: 0.9394813\ttest: 0.8006912\tbest: 0.8064516 (2114)\ttotal: 48.9s\tremaining: 1m 2s\n",
      "2300:\tlearn: 0.9423631\ttest: 0.8018433\tbest: 0.8064516 (2114)\ttotal: 51.2s\tremaining: 1m\n",
      "2400:\tlearn: 0.9484150\ttest: 0.8018433\tbest: 0.8064516 (2114)\ttotal: 53.4s\tremaining: 57.8s\n",
      "2500:\tlearn: 0.9518732\ttest: 0.8041475\tbest: 0.8064516 (2114)\ttotal: 55.6s\tremaining: 55.6s\n",
      "2600:\tlearn: 0.9544669\ttest: 0.8041475\tbest: 0.8064516 (2114)\ttotal: 57.8s\tremaining: 53.3s\n",
      "Stopped by overfitting detector  (500 iterations wait)\n",
      "\n",
      "bestTest = 0.8064516129\n",
      "bestIteration = 2114\n",
      "\n",
      "Shrink model to first 2115 iterations.\n",
      "Fold 3\n"
     ]
    },
    {
     "data": {
      "application/vnd.jupyter.widget-view+json": {
       "model_id": "a5225a67531945d29dd86ceff40f8c9b",
       "version_major": 2,
       "version_minor": 0
      },
      "text/plain": [
       "MetricVisualizer(layout=Layout(align_self='stretch', height='500px'))"
      ]
     },
     "metadata": {},
     "output_type": "display_data"
    },
    {
     "name": "stdout",
     "output_type": "stream",
     "text": [
      "Learning rate set to 0.021395\n",
      "0:\tlearn: 0.6801153\ttest: 0.6474654\tbest: 0.6474654 (0)\ttotal: 21.8ms\tremaining: 1m 49s\n",
      "100:\tlearn: 0.7233429\ttest: 0.6843318\tbest: 0.6866359 (93)\ttotal: 2.28s\tremaining: 1m 50s\n",
      "200:\tlearn: 0.7443804\ttest: 0.6970046\tbest: 0.6981567 (179)\ttotal: 4.44s\tremaining: 1m 46s\n",
      "300:\tlearn: 0.7691643\ttest: 0.7062212\tbest: 0.7062212 (299)\ttotal: 6.55s\tremaining: 1m 42s\n",
      "400:\tlearn: 0.7881844\ttest: 0.7165899\tbest: 0.7188940 (384)\ttotal: 8.71s\tremaining: 1m 39s\n",
      "500:\tlearn: 0.8097983\ttest: 0.7338710\tbest: 0.7338710 (489)\ttotal: 10.9s\tremaining: 1m 37s\n",
      "600:\tlearn: 0.8299712\ttest: 0.7442396\tbest: 0.7453917 (588)\ttotal: 13s\tremaining: 1m 35s\n",
      "700:\tlearn: 0.8438040\ttest: 0.7453917\tbest: 0.7476959 (649)\ttotal: 15.2s\tremaining: 1m 33s\n",
      "800:\tlearn: 0.8538905\ttest: 0.7603687\tbest: 0.7615207 (777)\ttotal: 17.4s\tremaining: 1m 31s\n",
      "900:\tlearn: 0.8613833\ttest: 0.7626728\tbest: 0.7638249 (820)\ttotal: 19.6s\tremaining: 1m 29s\n",
      "1000:\tlearn: 0.8711816\ttest: 0.7695853\tbest: 0.7695853 (994)\ttotal: 21.8s\tremaining: 1m 27s\n",
      "1100:\tlearn: 0.8829971\ttest: 0.7776498\tbest: 0.7776498 (1087)\ttotal: 24s\tremaining: 1m 24s\n",
      "1200:\tlearn: 0.8919308\ttest: 0.7776498\tbest: 0.7799539 (1140)\ttotal: 26.3s\tremaining: 1m 23s\n",
      "1300:\tlearn: 0.9002882\ttest: 0.7788018\tbest: 0.7799539 (1140)\ttotal: 28.5s\tremaining: 1m 20s\n",
      "1400:\tlearn: 0.9057637\ttest: 0.7799539\tbest: 0.7799539 (1140)\ttotal: 30.6s\tremaining: 1m 18s\n",
      "1500:\tlearn: 0.9118156\ttest: 0.7811060\tbest: 0.7834101 (1474)\ttotal: 32.8s\tremaining: 1m 16s\n",
      "1600:\tlearn: 0.9181556\ttest: 0.7880184\tbest: 0.7903226 (1569)\ttotal: 35s\tremaining: 1m 14s\n",
      "1700:\tlearn: 0.9224784\ttest: 0.7868664\tbest: 0.7903226 (1569)\ttotal: 37.3s\tremaining: 1m 12s\n",
      "1800:\tlearn: 0.9268012\ttest: 0.7868664\tbest: 0.7903226 (1569)\ttotal: 39.5s\tremaining: 1m 10s\n",
      "1900:\tlearn: 0.9317003\ttest: 0.7914747\tbest: 0.7914747 (1868)\ttotal: 41.8s\tremaining: 1m 8s\n",
      "2000:\tlearn: 0.9371758\ttest: 0.7903226\tbest: 0.7914747 (1868)\ttotal: 44.1s\tremaining: 1m 6s\n",
      "2100:\tlearn: 0.9403458\ttest: 0.7926267\tbest: 0.7949309 (2026)\ttotal: 46.3s\tremaining: 1m 3s\n",
      "2200:\tlearn: 0.9435159\ttest: 0.7891705\tbest: 0.7949309 (2026)\ttotal: 48.5s\tremaining: 1m 1s\n",
      "2300:\tlearn: 0.9466859\ttest: 0.7891705\tbest: 0.7949309 (2026)\ttotal: 50.8s\tremaining: 59.5s\n",
      "2400:\tlearn: 0.9498559\ttest: 0.7926267\tbest: 0.7949309 (2026)\ttotal: 53s\tremaining: 57.4s\n",
      "2500:\tlearn: 0.9536023\ttest: 0.7903226\tbest: 0.7949309 (2026)\ttotal: 55.2s\tremaining: 55.1s\n",
      "Stopped by overfitting detector  (500 iterations wait)\n",
      "\n",
      "bestTest = 0.7949308756\n",
      "bestIteration = 2026\n",
      "\n",
      "Shrink model to first 2027 iterations.\n",
      "Fold 4\n"
     ]
    },
    {
     "data": {
      "application/vnd.jupyter.widget-view+json": {
       "model_id": "ceb14964d18749ca986e0e3906f7e539",
       "version_major": 2,
       "version_minor": 0
      },
      "text/plain": [
       "MetricVisualizer(layout=Layout(align_self='stretch', height='500px'))"
      ]
     },
     "metadata": {},
     "output_type": "display_data"
    },
    {
     "name": "stdout",
     "output_type": "stream",
     "text": [
      "Learning rate set to 0.021397\n",
      "0:\tlearn: 0.6551426\ttest: 0.7047290\tbest: 0.7047290 (0)\ttotal: 23.2ms\tremaining: 1m 55s\n",
      "100:\tlearn: 0.7179487\ttest: 0.7450980\tbest: 0.7450980 (87)\ttotal: 2.24s\tremaining: 1m 48s\n",
      "200:\tlearn: 0.7378277\ttest: 0.7508651\tbest: 0.7520185 (183)\ttotal: 4.41s\tremaining: 1m 45s\n",
      "300:\tlearn: 0.7579948\ttest: 0.7612457\tbest: 0.7623991 (294)\ttotal: 6.58s\tremaining: 1m 42s\n",
      "400:\tlearn: 0.7767214\ttest: 0.7670127\tbest: 0.7670127 (381)\ttotal: 8.81s\tremaining: 1m 41s\n",
      "500:\tlearn: 0.8075483\ttest: 0.7831603\tbest: 0.7831603 (499)\ttotal: 11s\tremaining: 1m 38s\n",
      "600:\tlearn: 0.8265630\ttest: 0.7946943\tbest: 0.7970012 (575)\ttotal: 13.2s\tremaining: 1m 36s\n",
      "700:\tlearn: 0.8406799\ttest: 0.8050750\tbest: 0.8062284 (691)\ttotal: 15.4s\tremaining: 1m 34s\n",
      "800:\tlearn: 0.8501873\ttest: 0.8119954\tbest: 0.8131488 (791)\ttotal: 17.6s\tremaining: 1m 32s\n",
      "900:\tlearn: 0.8588303\ttest: 0.8177624\tbest: 0.8177624 (894)\ttotal: 19.8s\tremaining: 1m 30s\n",
      "1000:\tlearn: 0.8706425\ttest: 0.8200692\tbest: 0.8212226 (958)\ttotal: 22s\tremaining: 1m 27s\n",
      "1100:\tlearn: 0.8789974\ttest: 0.8235294\tbest: 0.8235294 (1100)\ttotal: 24.2s\tremaining: 1m 25s\n",
      "1200:\tlearn: 0.8902334\ttest: 0.8200692\tbest: 0.8235294 (1100)\ttotal: 26.3s\tremaining: 1m 23s\n",
      "1300:\tlearn: 0.8985883\ttest: 0.8189158\tbest: 0.8235294 (1100)\ttotal: 28.6s\tremaining: 1m 21s\n",
      "1400:\tlearn: 0.9052146\ttest: 0.8223760\tbest: 0.8235294 (1100)\ttotal: 30.8s\tremaining: 1m 19s\n",
      "1500:\tlearn: 0.9098243\ttest: 0.8235294\tbest: 0.8246828 (1406)\ttotal: 33s\tremaining: 1m 16s\n",
      "1600:\tlearn: 0.9152982\ttest: 0.8223760\tbest: 0.8246828 (1406)\ttotal: 35.2s\tremaining: 1m 14s\n",
      "1700:\tlearn: 0.9193316\ttest: 0.8246828\tbest: 0.8246828 (1406)\ttotal: 37.4s\tremaining: 1m 12s\n",
      "1800:\tlearn: 0.9259579\ttest: 0.8235294\tbest: 0.8246828 (1406)\ttotal: 39.6s\tremaining: 1m 10s\n",
      "1900:\tlearn: 0.9320081\ttest: 0.8200692\tbest: 0.8246828 (1406)\ttotal: 41.8s\tremaining: 1m 8s\n",
      "Stopped by overfitting detector  (500 iterations wait)\n",
      "\n",
      "bestTest = 0.8246828143\n",
      "bestIteration = 1406\n",
      "\n",
      "Shrink model to first 1407 iterations.\n",
      "Fold 5\n"
     ]
    },
    {
     "data": {
      "application/vnd.jupyter.widget-view+json": {
       "model_id": "dbce8fe62b8e419399d6f5c79fdaafc1",
       "version_major": 2,
       "version_minor": 0
      },
      "text/plain": [
       "MetricVisualizer(layout=Layout(align_self='stretch', height='500px'))"
      ]
     },
     "metadata": {},
     "output_type": "display_data"
    },
    {
     "name": "stdout",
     "output_type": "stream",
     "text": [
      "Learning rate set to 0.021397\n",
      "0:\tlearn: 0.6617689\ttest: 0.6678201\tbest: 0.6678201 (0)\ttotal: 21.1ms\tremaining: 1m 45s\n",
      "100:\tlearn: 0.7110343\ttest: 0.7070358\tbest: 0.7093426 (95)\ttotal: 2.19s\tremaining: 1m 46s\n",
      "200:\tlearn: 0.7395563\ttest: 0.7358708\tbest: 0.7358708 (187)\ttotal: 4.4s\tremaining: 1m 44s\n",
      "300:\tlearn: 0.7695189\ttest: 0.7474048\tbest: 0.7474048 (299)\ttotal: 6.55s\tremaining: 1m 42s\n",
      "400:\tlearn: 0.7905503\ttest: 0.7600923\tbest: 0.7612457 (392)\ttotal: 8.78s\tremaining: 1m 40s\n",
      "500:\tlearn: 0.8095650\ttest: 0.7681661\tbest: 0.7693195 (483)\ttotal: 11s\tremaining: 1m 38s\n",
      "600:\tlearn: 0.8248343\ttest: 0.7716263\tbest: 0.7762399 (565)\ttotal: 13.2s\tremaining: 1m 36s\n",
      "700:\tlearn: 0.8372227\ttest: 0.7785467\tbest: 0.7820069 (670)\ttotal: 15.4s\tremaining: 1m 34s\n",
      "800:\tlearn: 0.8498992\ttest: 0.7773933\tbest: 0.7820069 (670)\ttotal: 17.7s\tremaining: 1m 32s\n",
      "900:\tlearn: 0.8619994\ttest: 0.7843137\tbest: 0.7843137 (883)\ttotal: 20.1s\tremaining: 1m 31s\n",
      "1000:\tlearn: 0.8723711\ttest: 0.7854671\tbest: 0.7854671 (976)\ttotal: 22.4s\tremaining: 1m 29s\n",
      "1100:\tlearn: 0.8830308\ttest: 0.7866205\tbest: 0.7866205 (1079)\ttotal: 24.6s\tremaining: 1m 27s\n",
      "1200:\tlearn: 0.8919620\ttest: 0.7900807\tbest: 0.7900807 (1194)\ttotal: 26.8s\tremaining: 1m 24s\n",
      "1300:\tlearn: 0.8985883\ttest: 0.7912341\tbest: 0.7912341 (1280)\ttotal: 29.1s\tremaining: 1m 22s\n",
      "1400:\tlearn: 0.9078075\ttest: 0.7935409\tbest: 0.7946943 (1350)\ttotal: 31.4s\tremaining: 1m 20s\n",
      "1500:\tlearn: 0.9109767\ttest: 0.7946943\tbest: 0.7970012 (1473)\ttotal: 33.6s\tremaining: 1m 18s\n",
      "1600:\tlearn: 0.9161625\ttest: 0.7981546\tbest: 0.7981546 (1517)\ttotal: 35.9s\tremaining: 1m 16s\n",
      "1700:\tlearn: 0.9213483\ttest: 0.7981546\tbest: 0.7993080 (1668)\ttotal: 38.4s\tremaining: 1m 14s\n",
      "1800:\tlearn: 0.9253817\ttest: 0.7970012\tbest: 0.7993080 (1668)\ttotal: 40.7s\tremaining: 1m 12s\n",
      "1900:\tlearn: 0.9276865\ttest: 0.7935409\tbest: 0.7993080 (1668)\ttotal: 43s\tremaining: 1m 10s\n",
      "2000:\tlearn: 0.9328724\ttest: 0.7946943\tbest: 0.7993080 (1668)\ttotal: 45.2s\tremaining: 1m 7s\n",
      "2100:\tlearn: 0.9377701\ttest: 0.7993080\tbest: 0.8004614 (2048)\ttotal: 47.4s\tremaining: 1m 5s\n",
      "2200:\tlearn: 0.9420916\ttest: 0.8016148\tbest: 0.8027682 (2152)\ttotal: 49.7s\tremaining: 1m 3s\n",
      "2300:\tlearn: 0.9455488\ttest: 0.8016148\tbest: 0.8027682 (2152)\ttotal: 52s\tremaining: 1m\n",
      "2400:\tlearn: 0.9487179\ttest: 0.8016148\tbest: 0.8027682 (2152)\ttotal: 54.2s\tremaining: 58.7s\n",
      "2500:\tlearn: 0.9536157\ttest: 0.8039216\tbest: 0.8039216 (2482)\ttotal: 56.5s\tremaining: 56.4s\n",
      "2600:\tlearn: 0.9564967\ttest: 0.8039216\tbest: 0.8050750 (2508)\ttotal: 58.9s\tremaining: 54.3s\n",
      "2700:\tlearn: 0.9593777\ttest: 0.8062284\tbest: 0.8062284 (2691)\ttotal: 1m 1s\tremaining: 52s\n",
      "2800:\tlearn: 0.9605301\ttest: 0.8050750\tbest: 0.8073818 (2733)\ttotal: 1m 3s\tremaining: 49.8s\n",
      "2900:\tlearn: 0.9631230\ttest: 0.8073818\tbest: 0.8073818 (2733)\ttotal: 1m 5s\tremaining: 47.6s\n",
      "3000:\tlearn: 0.9654278\ttest: 0.8062284\tbest: 0.8073818 (2733)\ttotal: 1m 8s\tremaining: 45.3s\n",
      "3100:\tlearn: 0.9662921\ttest: 0.8027682\tbest: 0.8073818 (2733)\ttotal: 1m 10s\tremaining: 43s\n",
      "3200:\tlearn: 0.9680207\ttest: 0.8016148\tbest: 0.8073818 (2733)\ttotal: 1m 12s\tremaining: 40.8s\n",
      "Stopped by overfitting detector  (500 iterations wait)\n",
      "\n",
      "bestTest = 0.8073817762\n",
      "bestIteration = 2733\n",
      "\n",
      "Shrink model to first 2734 iterations.\n",
      "Average accuracy: 0.8079797383849175\n"
     ]
    }
   ],
   "source": [
    "import numpy as np\n",
    "from sklearn.model_selection import KFold\n",
    "\n",
    "# Set up the KFold object with 5 splits\n",
    "kf = KFold(n_splits=5, shuffle=True, random_state=42)\n",
    "\n",
    "# Initialize a list to store the accuracies for each fold\n",
    "accuracies = []\n",
    "\n",
    "# Iterate over each fold\n",
    "for fold, (train_idx, test_idx) in enumerate(kf.split(X)):\n",
    "    print(f\"Fold {fold+1}\")\n",
    "\n",
    "    # Split the data into training and testing sets for this fold\n",
    "    X_train, X_test = X.iloc[train_idx], X.iloc[test_idx]\n",
    "    y_train, y_test = y.iloc[train_idx], y.iloc[test_idx]\n",
    "\n",
    "    # Create the CatBoost training and testing pools\n",
    "    train_pool = catboost.Pool(X_train, y_train, text_features=['text'])\n",
    "    test_pool = catboost.Pool(X_test, y_test, text_features=['text'])\n",
    "\n",
    "    # Fit the model on the training data and evaluate on the testing data\n",
    "    model = fit_model(train_pool, test_pool,\n",
    "                      tokenizers=[\n",
    "                          {\n",
    "                              'tokenizer_id': 'Sense',\n",
    "                              'separator_type': 'BySense',\n",
    "                              'lowercasing': 'True',\n",
    "                              'token_types': ['Word', 'Number', 'SentenceBreak'],\n",
    "                              'sub_tokens_policy':'SeveralTokens'\n",
    "                          }\n",
    "                      ],\n",
    "                      dictionaries=[\n",
    "                          {\n",
    "                              'dictionary_id': 'Word',\n",
    "                              'max_dictionary_size': '50000'\n",
    "                          }\n",
    "                      ],\n",
    "                      feature_calcers=[\n",
    "                          'BoW:top_tokens_count=10000'\n",
    "                      ])\n",
    "    accuracy = model.score(test_pool)\n",
    "    accuracies.append(accuracy)\n",
    "\n",
    "# Print the average accuracy across all folds\n",
    "print(f\"Average accuracy: {np.mean(accuracies)}\")\n"
   ]
  }
 ],
 "metadata": {
  "kernelspec": {
   "display_name": "dm",
   "language": "python",
   "name": "python3"
  },
  "language_info": {
   "codemirror_mode": {
    "name": "ipython",
    "version": 3
   },
   "file_extension": ".py",
   "mimetype": "text/x-python",
   "name": "python",
   "nbconvert_exporter": "python",
   "pygments_lexer": "ipython3",
   "version": "3.9.13"
  },
  "orig_nbformat": 4
 },
 "nbformat": 4,
 "nbformat_minor": 2
}
