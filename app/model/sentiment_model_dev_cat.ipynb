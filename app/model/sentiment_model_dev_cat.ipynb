{
 "cells": [
  {
   "cell_type": "code",
   "execution_count": 1,
   "metadata": {},
   "outputs": [],
   "source": [
    "import pandas as pd\n",
    "import catboost\n",
    "from catboost import CatBoostClassifier"
   ]
  },
  {
   "cell_type": "code",
   "execution_count": 2,
   "metadata": {},
   "outputs": [],
   "source": [
    "df = pd.read_excel('./data/Task-2/train_processed.xlsx')\n",
    "\n",
    "X= df[['text']]\n",
    "y = df.label"
   ]
  },
  {
   "cell_type": "code",
   "execution_count": 3,
   "metadata": {},
   "outputs": [
    {
     "data": {
      "text/html": [
       "<div>\n",
       "<style scoped>\n",
       "    .dataframe tbody tr th:only-of-type {\n",
       "        vertical-align: middle;\n",
       "    }\n",
       "\n",
       "    .dataframe tbody tr th {\n",
       "        vertical-align: top;\n",
       "    }\n",
       "\n",
       "    .dataframe thead th {\n",
       "        text-align: right;\n",
       "    }\n",
       "</style>\n",
       "<table border=\"1\" class=\"dataframe\">\n",
       "  <thead>\n",
       "    <tr style=\"text-align: right;\">\n",
       "      <th></th>\n",
       "      <th>text</th>\n",
       "    </tr>\n",
       "  </thead>\n",
       "  <tbody>\n",
       "    <tr>\n",
       "      <th>0</th>\n",
       "      <td>fiskar strong portfolio international brand in...</td>\n",
       "    </tr>\n",
       "    <tr>\n",
       "      <th>1</th>\n",
       "      <td>metalszinc surge   pct glencore cut output fue...</td>\n",
       "    </tr>\n",
       "    <tr>\n",
       "      <th>2</th>\n",
       "      <td>accord scanfil demand telecommunication networ...</td>\n",
       "    </tr>\n",
       "    <tr>\n",
       "      <th>3</th>\n",
       "      <td>dbs launch new banking api developer platform ...</td>\n",
       "    </tr>\n",
       "    <tr>\n",
       "      <th>4</th>\n",
       "      <td>theodosopoulos say tellab could value nokia si...</td>\n",
       "    </tr>\n",
       "    <tr>\n",
       "      <th>...</th>\n",
       "      <td>...</td>\n",
       "    </tr>\n",
       "    <tr>\n",
       "      <th>4333</th>\n",
       "      <td>airvana umts home base station femto cell use ...</td>\n",
       "    </tr>\n",
       "    <tr>\n",
       "      <th>4334</th>\n",
       "      <td>malton   net profit jump four time gain revoke...</td>\n",
       "    </tr>\n",
       "    <tr>\n",
       "      <th>4335</th>\n",
       "      <td>accord ceo kai telanne company newspaper achie...</td>\n",
       "    </tr>\n",
       "    <tr>\n",
       "      <th>4336</th>\n",
       "      <td>addition cramo peab sign exclusive fiveyear re...</td>\n",
       "    </tr>\n",
       "    <tr>\n",
       "      <th>4337</th>\n",
       "      <td>ntc geographical presence complement ramirent ...</td>\n",
       "    </tr>\n",
       "  </tbody>\n",
       "</table>\n",
       "<p>4338 rows × 1 columns</p>\n",
       "</div>"
      ],
      "text/plain": [
       "                                                   text\n",
       "0     fiskar strong portfolio international brand in...\n",
       "1     metalszinc surge   pct glencore cut output fue...\n",
       "2     accord scanfil demand telecommunication networ...\n",
       "3     dbs launch new banking api developer platform ...\n",
       "4     theodosopoulos say tellab could value nokia si...\n",
       "...                                                 ...\n",
       "4333  airvana umts home base station femto cell use ...\n",
       "4334  malton   net profit jump four time gain revoke...\n",
       "4335  accord ceo kai telanne company newspaper achie...\n",
       "4336  addition cramo peab sign exclusive fiveyear re...\n",
       "4337  ntc geographical presence complement ramirent ...\n",
       "\n",
       "[4338 rows x 1 columns]"
      ]
     },
     "execution_count": 3,
     "metadata": {},
     "output_type": "execute_result"
    }
   ],
   "source": [
    "X"
   ]
  },
  {
   "cell_type": "code",
   "execution_count": 4,
   "metadata": {},
   "outputs": [],
   "source": [
    "def fit_model(train_pool, test_pool, **kwargs):\n",
    "    model = CatBoostClassifier(\n",
    "        task_type='CPU',\n",
    "        iterations=5000,\n",
    "        eval_metric='Accuracy',\n",
    "        od_type='Iter',\n",
    "        od_wait=500,\n",
    "        **kwargs\n",
    "    )\n",
    "    return model.fit(\n",
    "            train_pool,\n",
    "            eval_set=test_pool,\n",
    "            verbose=100,\n",
    "            plot=True,\n",
    "            use_best_model=True)"
   ]
  },
  {
   "cell_type": "code",
   "execution_count": 5,
   "metadata": {},
   "outputs": [
    {
     "name": "stdout",
     "output_type": "stream",
     "text": [
      "Fold 1\n"
     ]
    },
    {
     "data": {
      "application/vnd.jupyter.widget-view+json": {
       "model_id": "17901228d6c14f18a5b106894da9710f",
       "version_major": 2,
       "version_minor": 0
      },
      "text/plain": [
       "MetricVisualizer(layout=Layout(align_self='stretch', height='500px'))"
      ]
     },
     "metadata": {},
     "output_type": "display_data"
    },
    {
     "name": "stdout",
     "output_type": "stream",
     "text": [
      "Learning rate set to 0.021395\n",
      "0:\tlearn: 0.6873199\ttest: 0.6751152\tbest: 0.6751152 (0)\ttotal: 64.6ms\tremaining: 5m 22s\n",
      "100:\tlearn: 0.7285303\ttest: 0.7142857\tbest: 0.7165899 (77)\ttotal: 1.95s\tremaining: 1m 34s\n",
      "200:\tlearn: 0.7544669\ttest: 0.7407834\tbest: 0.7407834 (198)\ttotal: 3.68s\tremaining: 1m 27s\n",
      "300:\tlearn: 0.7806916\ttest: 0.7534562\tbest: 0.7534562 (298)\ttotal: 5.41s\tremaining: 1m 24s\n",
      "400:\tlearn: 0.8043228\ttest: 0.7753456\tbest: 0.7753456 (361)\ttotal: 7.15s\tremaining: 1m 21s\n",
      "500:\tlearn: 0.8204611\ttest: 0.7949309\tbest: 0.7949309 (500)\ttotal: 8.87s\tremaining: 1m 19s\n",
      "600:\tlearn: 0.8368876\ttest: 0.7995392\tbest: 0.7995392 (556)\ttotal: 10.6s\tremaining: 1m 17s\n",
      "700:\tlearn: 0.8484150\ttest: 0.8087558\tbest: 0.8099078 (681)\ttotal: 12.3s\tremaining: 1m 15s\n",
      "800:\tlearn: 0.8582133\ttest: 0.8156682\tbest: 0.8156682 (793)\ttotal: 14s\tremaining: 1m 13s\n",
      "900:\tlearn: 0.8662824\ttest: 0.8214286\tbest: 0.8214286 (899)\ttotal: 15.8s\tremaining: 1m 11s\n",
      "1000:\tlearn: 0.8723343\ttest: 0.8202765\tbest: 0.8225806 (907)\ttotal: 17.5s\tremaining: 1m 9s\n",
      "1100:\tlearn: 0.8801153\ttest: 0.8225806\tbest: 0.8237327 (1088)\ttotal: 19.2s\tremaining: 1m 8s\n",
      "1200:\tlearn: 0.8850144\ttest: 0.8237327\tbest: 0.8237327 (1088)\ttotal: 21s\tremaining: 1m 6s\n",
      "1300:\tlearn: 0.8916427\ttest: 0.8248848\tbest: 0.8248848 (1290)\ttotal: 22.7s\tremaining: 1m 4s\n",
      "1400:\tlearn: 0.8945245\ttest: 0.8271889\tbest: 0.8271889 (1329)\ttotal: 24.6s\tremaining: 1m 3s\n",
      "1500:\tlearn: 0.9002882\ttest: 0.8248848\tbest: 0.8271889 (1329)\ttotal: 26.3s\tremaining: 1m 1s\n",
      "1600:\tlearn: 0.9077810\ttest: 0.8283410\tbest: 0.8283410 (1589)\ttotal: 28.1s\tremaining: 59.7s\n",
      "1700:\tlearn: 0.9121037\ttest: 0.8294931\tbest: 0.8294931 (1659)\ttotal: 29.9s\tremaining: 58s\n",
      "1800:\tlearn: 0.9170029\ttest: 0.8375576\tbest: 0.8375576 (1767)\ttotal: 31.7s\tremaining: 56.2s\n",
      "1900:\tlearn: 0.9227666\ttest: 0.8398618\tbest: 0.8398618 (1847)\ttotal: 33.5s\tremaining: 54.6s\n",
      "2000:\tlearn: 0.9285303\ttest: 0.8387097\tbest: 0.8398618 (1847)\ttotal: 35.2s\tremaining: 52.8s\n",
      "2100:\tlearn: 0.9293948\ttest: 0.8375576\tbest: 0.8398618 (1847)\ttotal: 36.9s\tremaining: 51s\n",
      "2200:\tlearn: 0.9325648\ttest: 0.8375576\tbest: 0.8398618 (1847)\ttotal: 38.7s\tremaining: 49.2s\n",
      "2300:\tlearn: 0.9374640\ttest: 0.8387097\tbest: 0.8398618 (1847)\ttotal: 40.4s\tremaining: 47.4s\n",
      "2400:\tlearn: 0.9409222\ttest: 0.8375576\tbest: 0.8410138 (2342)\ttotal: 42.2s\tremaining: 45.6s\n",
      "2500:\tlearn: 0.9435159\ttest: 0.8387097\tbest: 0.8410138 (2342)\ttotal: 43.9s\tremaining: 43.9s\n",
      "2600:\tlearn: 0.9463977\ttest: 0.8398618\tbest: 0.8421659 (2534)\ttotal: 45.6s\tremaining: 42.1s\n",
      "2700:\tlearn: 0.9475504\ttest: 0.8410138\tbest: 0.8421659 (2534)\ttotal: 47.4s\tremaining: 40.3s\n",
      "2800:\tlearn: 0.9504323\ttest: 0.8398618\tbest: 0.8421659 (2534)\ttotal: 49.2s\tremaining: 38.6s\n",
      "2900:\tlearn: 0.9536023\ttest: 0.8398618\tbest: 0.8421659 (2534)\ttotal: 50.9s\tremaining: 36.8s\n",
      "3000:\tlearn: 0.9547550\ttest: 0.8387097\tbest: 0.8421659 (2534)\ttotal: 52.6s\tremaining: 35.1s\n",
      "Stopped by overfitting detector  (500 iterations wait)\n",
      "\n",
      "bestTest = 0.8421658986\n",
      "bestIteration = 2534\n",
      "\n",
      "Shrink model to first 2535 iterations.\n",
      "Fold 2\n"
     ]
    },
    {
     "data": {
      "application/vnd.jupyter.widget-view+json": {
       "model_id": "1b5a09d0d2ea41deb6200d3e7f6fc55c",
       "version_major": 2,
       "version_minor": 0
      },
      "text/plain": [
       "MetricVisualizer(layout=Layout(align_self='stretch', height='500px'))"
      ]
     },
     "metadata": {},
     "output_type": "display_data"
    },
    {
     "name": "stdout",
     "output_type": "stream",
     "text": [
      "Learning rate set to 0.021395\n",
      "0:\tlearn: 0.7063401\ttest: 0.6843318\tbest: 0.6843318 (0)\ttotal: 20.8ms\tremaining: 1m 43s\n",
      "100:\tlearn: 0.7345821\ttest: 0.7073733\tbest: 0.7096774 (64)\ttotal: 1.68s\tremaining: 1m 21s\n",
      "200:\tlearn: 0.7587896\ttest: 0.7269585\tbest: 0.7281106 (170)\ttotal: 3.37s\tremaining: 1m 20s\n",
      "300:\tlearn: 0.7873199\ttest: 0.7430876\tbest: 0.7442396 (282)\ttotal: 5.04s\tremaining: 1m 18s\n",
      "400:\tlearn: 0.8072046\ttest: 0.7557604\tbest: 0.7557604 (376)\ttotal: 6.69s\tremaining: 1m 16s\n",
      "500:\tlearn: 0.8213256\ttest: 0.7707373\tbest: 0.7718894 (479)\ttotal: 8.35s\tremaining: 1m 14s\n",
      "600:\tlearn: 0.8322767\ttest: 0.7799539\tbest: 0.7822581 (578)\ttotal: 10s\tremaining: 1m 13s\n",
      "700:\tlearn: 0.8443804\ttest: 0.7868664\tbest: 0.7868664 (697)\ttotal: 11.7s\tremaining: 1m 11s\n",
      "800:\tlearn: 0.8538905\ttest: 0.7926267\tbest: 0.7926267 (799)\ttotal: 13.4s\tremaining: 1m 10s\n",
      "900:\tlearn: 0.8610951\ttest: 0.7995392\tbest: 0.7995392 (865)\ttotal: 15.1s\tremaining: 1m 8s\n",
      "1000:\tlearn: 0.8694524\ttest: 0.7949309\tbest: 0.7995392 (865)\ttotal: 16.7s\tremaining: 1m 6s\n",
      "1100:\tlearn: 0.8766571\ttest: 0.7972350\tbest: 0.7995392 (865)\ttotal: 18.4s\tremaining: 1m 5s\n",
      "1200:\tlearn: 0.8832853\ttest: 0.7949309\tbest: 0.7995392 (865)\ttotal: 20.1s\tremaining: 1m 3s\n",
      "1300:\tlearn: 0.8884726\ttest: 0.7983871\tbest: 0.7995392 (865)\ttotal: 21.8s\tremaining: 1m 1s\n",
      "Stopped by overfitting detector  (500 iterations wait)\n",
      "\n",
      "bestTest = 0.7995391705\n",
      "bestIteration = 865\n",
      "\n",
      "Shrink model to first 866 iterations.\n",
      "Fold 3\n"
     ]
    },
    {
     "data": {
      "application/vnd.jupyter.widget-view+json": {
       "model_id": "a5fdd2af51714fcd95015d32e642da78",
       "version_major": 2,
       "version_minor": 0
      },
      "text/plain": [
       "MetricVisualizer(layout=Layout(align_self='stretch', height='500px'))"
      ]
     },
     "metadata": {},
     "output_type": "display_data"
    },
    {
     "name": "stdout",
     "output_type": "stream",
     "text": [
      "Learning rate set to 0.021395\n",
      "0:\tlearn: 0.7057637\ttest: 0.6682028\tbest: 0.6682028 (0)\ttotal: 26.7ms\tremaining: 2m 13s\n",
      "100:\tlearn: 0.7435159\ttest: 0.7027650\tbest: 0.7027650 (96)\ttotal: 1.71s\tremaining: 1m 22s\n",
      "200:\tlearn: 0.7602305\ttest: 0.7119816\tbest: 0.7119816 (179)\ttotal: 3.4s\tremaining: 1m 21s\n",
      "300:\tlearn: 0.7902017\ttest: 0.7373272\tbest: 0.7373272 (298)\ttotal: 5.07s\tremaining: 1m 19s\n",
      "400:\tlearn: 0.8132565\ttest: 0.7442396\tbest: 0.7442396 (391)\ttotal: 6.77s\tremaining: 1m 17s\n",
      "500:\tlearn: 0.8244957\ttest: 0.7500000\tbest: 0.7511521 (481)\ttotal: 8.46s\tremaining: 1m 16s\n",
      "600:\tlearn: 0.8391931\ttest: 0.7580645\tbest: 0.7603687 (586)\ttotal: 10.2s\tremaining: 1m 14s\n",
      "700:\tlearn: 0.8492795\ttest: 0.7592166\tbest: 0.7615207 (610)\ttotal: 11.9s\tremaining: 1m 13s\n",
      "800:\tlearn: 0.8599424\ttest: 0.7626728\tbest: 0.7638249 (789)\ttotal: 13.6s\tremaining: 1m 11s\n",
      "900:\tlearn: 0.8674352\ttest: 0.7615207\tbest: 0.7649770 (810)\ttotal: 15.3s\tremaining: 1m 9s\n",
      "1000:\tlearn: 0.8752161\ttest: 0.7684332\tbest: 0.7684332 (997)\ttotal: 17s\tremaining: 1m 7s\n",
      "1100:\tlearn: 0.8835735\ttest: 0.7684332\tbest: 0.7684332 (997)\ttotal: 18.7s\tremaining: 1m 6s\n",
      "1200:\tlearn: 0.8896254\ttest: 0.7672811\tbest: 0.7707373 (1128)\ttotal: 20.4s\tremaining: 1m 4s\n",
      "1300:\tlearn: 0.8959654\ttest: 0.7707373\tbest: 0.7707373 (1128)\ttotal: 22.1s\tremaining: 1m 2s\n",
      "1400:\tlearn: 0.9020173\ttest: 0.7718894\tbest: 0.7718894 (1342)\ttotal: 23.9s\tremaining: 1m 1s\n",
      "1500:\tlearn: 0.9083573\ttest: 0.7753456\tbest: 0.7753456 (1487)\ttotal: 25.6s\tremaining: 59.7s\n",
      "1600:\tlearn: 0.9118156\ttest: 0.7741935\tbest: 0.7753456 (1487)\ttotal: 27.3s\tremaining: 58s\n",
      "1700:\tlearn: 0.9155620\ttest: 0.7776498\tbest: 0.7776498 (1689)\ttotal: 29s\tremaining: 56.2s\n",
      "1800:\tlearn: 0.9190202\ttest: 0.7788018\tbest: 0.7811060 (1783)\ttotal: 30.7s\tremaining: 54.6s\n",
      "1900:\tlearn: 0.9242075\ttest: 0.7811060\tbest: 0.7822581 (1891)\ttotal: 32.5s\tremaining: 52.9s\n",
      "2000:\tlearn: 0.9299712\ttest: 0.7799539\tbest: 0.7822581 (1891)\ttotal: 34.2s\tremaining: 51.2s\n",
      "2100:\tlearn: 0.9345821\ttest: 0.7868664\tbest: 0.7868664 (2093)\ttotal: 35.9s\tremaining: 49.5s\n",
      "2200:\tlearn: 0.9391931\ttest: 0.7845622\tbest: 0.7868664 (2093)\ttotal: 37.6s\tremaining: 47.8s\n",
      "2300:\tlearn: 0.9412104\ttest: 0.7834101\tbest: 0.7868664 (2093)\ttotal: 39.3s\tremaining: 46.1s\n",
      "2400:\tlearn: 0.9443804\ttest: 0.7822581\tbest: 0.7868664 (2093)\ttotal: 41.1s\tremaining: 44.5s\n",
      "2500:\tlearn: 0.9458213\ttest: 0.7811060\tbest: 0.7868664 (2093)\ttotal: 42.8s\tremaining: 42.8s\n",
      "Stopped by overfitting detector  (500 iterations wait)\n",
      "\n",
      "bestTest = 0.7868663594\n",
      "bestIteration = 2093\n",
      "\n",
      "Shrink model to first 2094 iterations.\n",
      "Fold 4\n"
     ]
    },
    {
     "data": {
      "application/vnd.jupyter.widget-view+json": {
       "model_id": "76201358a23f4c9880ff97d711dd6100",
       "version_major": 2,
       "version_minor": 0
      },
      "text/plain": [
       "MetricVisualizer(layout=Layout(align_self='stretch', height='500px'))"
      ]
     },
     "metadata": {},
     "output_type": "display_data"
    },
    {
     "name": "stdout",
     "output_type": "stream",
     "text": [
      "Learning rate set to 0.021397\n",
      "0:\tlearn: 0.6885624\ttest: 0.7185698\tbest: 0.7185698 (0)\ttotal: 17.2ms\tremaining: 1m 26s\n",
      "100:\tlearn: 0.7159320\ttest: 0.7439446\tbest: 0.7485582 (75)\ttotal: 1.69s\tremaining: 1m 21s\n",
      "200:\tlearn: 0.7479113\ttest: 0.7670127\tbest: 0.7670127 (187)\ttotal: 3.38s\tremaining: 1m 20s\n",
      "300:\tlearn: 0.7732642\ttest: 0.7900807\tbest: 0.7900807 (295)\ttotal: 5.04s\tremaining: 1m 18s\n",
      "400:\tlearn: 0.8020743\ttest: 0.8154556\tbest: 0.8154556 (400)\ttotal: 6.74s\tremaining: 1m 17s\n",
      "500:\tlearn: 0.8161913\ttest: 0.8269896\tbest: 0.8292964 (484)\ttotal: 8.42s\tremaining: 1m 15s\n",
      "600:\tlearn: 0.8308845\ttest: 0.8258362\tbest: 0.8316032 (539)\ttotal: 10.1s\tremaining: 1m 14s\n",
      "700:\tlearn: 0.8467300\ttest: 0.8304498\tbest: 0.8316032 (539)\ttotal: 11.8s\tremaining: 1m 12s\n",
      "800:\tlearn: 0.8585422\ttest: 0.8327566\tbest: 0.8339100 (793)\ttotal: 13.5s\tremaining: 1m 10s\n",
      "900:\tlearn: 0.8689139\ttest: 0.8350634\tbest: 0.8350634 (816)\ttotal: 15.2s\tremaining: 1m 9s\n",
      "1000:\tlearn: 0.8772688\ttest: 0.8373702\tbest: 0.8385236 (955)\ttotal: 16.9s\tremaining: 1m 7s\n",
      "1100:\tlearn: 0.8859118\ttest: 0.8362168\tbest: 0.8396770 (1026)\ttotal: 18.6s\tremaining: 1m 5s\n",
      "1200:\tlearn: 0.8931144\ttest: 0.8385236\tbest: 0.8396770 (1026)\ttotal: 20.3s\tremaining: 1m 4s\n",
      "1300:\tlearn: 0.8988764\ttest: 0.8396770\tbest: 0.8408304 (1282)\ttotal: 22s\tremaining: 1m 2s\n",
      "1400:\tlearn: 0.9040622\ttest: 0.8396770\tbest: 0.8419839 (1311)\ttotal: 23.8s\tremaining: 1m 1s\n",
      "1500:\tlearn: 0.9089600\ttest: 0.8350634\tbest: 0.8419839 (1311)\ttotal: 25.6s\tremaining: 59.8s\n",
      "1600:\tlearn: 0.9124172\ttest: 0.8362168\tbest: 0.8419839 (1311)\ttotal: 27.5s\tremaining: 58.3s\n",
      "1700:\tlearn: 0.9161625\ttest: 0.8396770\tbest: 0.8419839 (1311)\ttotal: 29.3s\tremaining: 56.8s\n",
      "1800:\tlearn: 0.9213483\ttest: 0.8408304\tbest: 0.8419839 (1311)\ttotal: 31.1s\tremaining: 55.3s\n",
      "Stopped by overfitting detector  (500 iterations wait)\n",
      "\n",
      "bestTest = 0.8419838524\n",
      "bestIteration = 1311\n",
      "\n",
      "Shrink model to first 1312 iterations.\n",
      "Fold 5\n"
     ]
    },
    {
     "data": {
      "application/vnd.jupyter.widget-view+json": {
       "model_id": "b96e15adad5b4bb28fb32f9096a55745",
       "version_major": 2,
       "version_minor": 0
      },
      "text/plain": [
       "MetricVisualizer(layout=Layout(align_self='stretch', height='500px'))"
      ]
     },
     "metadata": {},
     "output_type": "display_data"
    },
    {
     "name": "stdout",
     "output_type": "stream",
     "text": [
      "Learning rate set to 0.021397\n",
      "0:\tlearn: 0.7038317\ttest: 0.7070358\tbest: 0.7070358 (0)\ttotal: 18.3ms\tremaining: 1m 31s\n",
      "100:\tlearn: 0.7306252\ttest: 0.7220300\tbest: 0.7220300 (95)\ttotal: 1.83s\tremaining: 1m 28s\n",
      "200:\tlearn: 0.7600115\ttest: 0.7404844\tbest: 0.7404844 (185)\ttotal: 3.67s\tremaining: 1m 27s\n",
      "300:\tlearn: 0.7816191\ttest: 0.7566321\tbest: 0.7589389 (285)\ttotal: 5.5s\tremaining: 1m 25s\n",
      "400:\tlearn: 0.8014981\ttest: 0.7704729\tbest: 0.7704729 (400)\ttotal: 7.31s\tremaining: 1m 23s\n",
      "500:\tlearn: 0.8219533\ttest: 0.7831603\tbest: 0.7831603 (498)\ttotal: 9.11s\tremaining: 1m 21s\n",
      "600:\tlearn: 0.8326131\ttest: 0.7900807\tbest: 0.7900807 (590)\ttotal: 10.9s\tremaining: 1m 20s\n",
      "700:\tlearn: 0.8467300\ttest: 0.7970012\tbest: 0.8004614 (652)\ttotal: 12.8s\tremaining: 1m 18s\n",
      "800:\tlearn: 0.8605589\ttest: 0.7981546\tbest: 0.8016148 (770)\ttotal: 14.6s\tremaining: 1m 16s\n",
      "900:\tlearn: 0.8706425\ttest: 0.8039216\tbest: 0.8039216 (894)\ttotal: 16.4s\tremaining: 1m 14s\n",
      "1000:\tlearn: 0.8769807\ttest: 0.8039216\tbest: 0.8062284 (901)\ttotal: 18.2s\tremaining: 1m 12s\n",
      "1100:\tlearn: 0.8815903\ttest: 0.8050750\tbest: 0.8062284 (901)\ttotal: 20.1s\tremaining: 1m 11s\n",
      "1200:\tlearn: 0.8879286\ttest: 0.8016148\tbest: 0.8073818 (1114)\ttotal: 21.9s\tremaining: 1m 9s\n",
      "1300:\tlearn: 0.8928263\ttest: 0.8027682\tbest: 0.8073818 (1114)\ttotal: 23.7s\tremaining: 1m 7s\n",
      "1400:\tlearn: 0.8962835\ttest: 0.8027682\tbest: 0.8073818 (1114)\ttotal: 25.6s\tremaining: 1m 5s\n",
      "1500:\tlearn: 0.9008931\ttest: 0.8016148\tbest: 0.8073818 (1114)\ttotal: 27.4s\tremaining: 1m 3s\n",
      "1600:\tlearn: 0.9052146\ttest: 0.8027682\tbest: 0.8073818 (1114)\ttotal: 29.2s\tremaining: 1m 1s\n",
      "Stopped by overfitting detector  (500 iterations wait)\n",
      "\n",
      "bestTest = 0.8073817762\n",
      "bestIteration = 1114\n",
      "\n",
      "Shrink model to first 1115 iterations.\n",
      "Average accuracy: 0.8155874114351622\n"
     ]
    }
   ],
   "source": [
    "import numpy as np\n",
    "from sklearn.model_selection import KFold\n",
    "\n",
    "# Set up the KFold object with 5 splits\n",
    "kf = KFold(n_splits=5, shuffle=True, random_state=42)\n",
    "\n",
    "# Initialize a list to store the accuracies for each fold\n",
    "accuracies = []\n",
    "\n",
    "# Iterate over each fold\n",
    "for fold, (train_idx, test_idx) in enumerate(kf.split(X)):\n",
    "    print(f\"Fold {fold+1}\")\n",
    "\n",
    "    # Split the data into training and testing sets for this fold\n",
    "    X_train, X_test = X.iloc[train_idx], X.iloc[test_idx]\n",
    "    y_train, y_test = y.iloc[train_idx], y.iloc[test_idx]\n",
    "\n",
    "    # Create the CatBoost training and testing pools\n",
    "    train_pool = catboost.Pool(X_train, y_train, text_features=['text'])\n",
    "    test_pool = catboost.Pool(X_test, y_test, text_features=['text'])\n",
    "\n",
    "    # Fit the model on the training data and evaluate on the testing data\n",
    "    model = fit_model(train_pool, test_pool,\n",
    "                      tokenizers=[\n",
    "                          {\n",
    "                              'tokenizer_id': 'Sense',\n",
    "                              'separator_type': 'BySense',\n",
    "                              'lowercasing': 'True',\n",
    "                              'token_types': ['Word', 'Number', 'SentenceBreak'],\n",
    "                              'sub_tokens_policy':'SeveralTokens'\n",
    "                          }\n",
    "                      ],\n",
    "                      dictionaries=[\n",
    "                          {\n",
    "                              'dictionary_id': 'Word',\n",
    "                              'max_dictionary_size': '50000'\n",
    "                          }\n",
    "                      ],\n",
    "                      feature_calcers=[\n",
    "                          'BoW:top_tokens_count=10000'\n",
    "                      ])\n",
    "    accuracy = model.score(test_pool)\n",
    "    accuracies.append(accuracy)\n",
    "\n",
    "# Print the average accuracy across all folds\n",
    "print(f\"Average accuracy: {np.mean(accuracies)}\")\n"
   ]
  }
 ],
 "metadata": {
  "kernelspec": {
   "display_name": "dm",
   "language": "python",
   "name": "python3"
  },
  "language_info": {
   "codemirror_mode": {
    "name": "ipython",
    "version": 3
   },
   "file_extension": ".py",
   "mimetype": "text/x-python",
   "name": "python",
   "nbconvert_exporter": "python",
   "pygments_lexer": "ipython3",
   "version": "3.9.13"
  },
  "orig_nbformat": 4
 },
 "nbformat": 4,
 "nbformat_minor": 2
}
